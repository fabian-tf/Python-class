{
 "cells": [
  {
   "cell_type": "markdown",
   "id": "42adc189",
   "metadata": {},
   "source": [
    "#CLASE 5\n",
    "Dar forma a las salidas de impresiones "
   ]
  },
  {
   "cell_type": "code",
   "execution_count": 14,
   "id": "3328606f",
   "metadata": {},
   "outputs": [
    {
     "name": "stdout",
     "output_type": "stream",
     "text": [
      "Los valores son: 13 trece\n"
     ]
    }
   ],
   "source": [
    "AA = 13\n",
    "BB = 'trece'\n",
    "print ('Los valores son:', AA, BB)"
   ]
  },
  {
   "cell_type": "code",
   "execution_count": null,
   "id": "402c5621",
   "metadata": {},
   "outputs": [
    {
     "name": "stdout",
     "output_type": "stream",
     "text": [
      "El valor de la variable CC es: 14 y el valor de la variable DD es: comida\n"
     ]
    }
   ],
   "source": [
    "CC = 14\n",
    "DD = 'comida'\n",
    "\n",
    "print (f\"El valor de la variable CC es: {CC} y el valor de la variable DD es: {DD}\")\n",
    "# La función f-string o format permite incluir variables dentro de una cadena de texto"
   ]
  },
  {
   "cell_type": "code",
   "execution_count": null,
   "id": "77c57dcf",
   "metadata": {},
   "outputs": [
    {
     "name": "stdout",
     "output_type": "stream",
     "text": [
      "Hola, mi nombre es Fabian y tengo 18 años\n"
     ]
    }
   ],
   "source": [
    "Nombre = 'Fabian'\n",
    "Edad = 18\n",
    "print (\"Hola, mi nombre es {} y tengo {} años\".format(Nombre, Edad))\n",
    "# La función format permite incluir variables dentro de una cadena de texto\n"
   ]
  },
  {
   "cell_type": "code",
   "execution_count": 11,
   "id": "ec474677",
   "metadata": {},
   "outputs": [
    {
     "name": "stdout",
     "output_type": "stream",
     "text": [
      "Hola, mi nombre es Osneyder y tengo 35 años\n"
     ]
    }
   ],
   "source": [
    "Nombre = 'Osneyder'\n",
    "Edad = 35\n",
    "print (\"Hola, mi nombre es %s y tengo %d años\" % (Nombre, Edad))"
   ]
  },
  {
   "cell_type": "code",
   "execution_count": 13,
   "id": "5400fd9b",
   "metadata": {},
   "outputs": [
    {
     "name": "stdout",
     "output_type": "stream",
     "text": [
      "Hola, mi nombre es fabian Torres y tengo 18 años y mido 1.80\n"
     ]
    }
   ],
   "source": [
    "Nombre= 'fabian'\n",
    "Apellido= 'Torres'\n",
    "Edad= 18\n",
    "Altura= 1.80\n",
    "print (\"Hola, mi nombre es %s %s y tengo %d años y mido %.2f\" % (Nombre, Apellido, Edad, Altura))\n",
    "# La función % permite incluir variables dentro de una cadena de texto\n"
   ]
  },
  {
   "cell_type": "markdown",
   "id": "1f156fc0",
   "metadata": {},
   "source": [
    "# CARACTERES DE ESCAPE"
   ]
  },
  {
   "cell_type": "code",
   "execution_count": null,
   "id": "52d3deec",
   "metadata": {},
   "outputs": [
    {
     "name": "stdout",
     "output_type": "stream",
     "text": [
      "me bañe a las 6:10 de la mañana, \n"
     ]
    }
   ],
   "source": [
    "# usando el \\r\n",
    "print(\"Me levante a las 6 de la mañana, \\rme bañe a las 6:10\")\n",
    "# ignora lo que hay antes del \\r y empieza desde el \\r"
   ]
  },
  {
   "cell_type": "code",
   "execution_count": null,
   "id": "41b214c7",
   "metadata": {},
   "outputs": [
    {
     "name": "stdout",
     "output_type": "stream",
     "text": [
      "Me levante a las 6 de la mañana,  y me \"bañe\" a las 7\n"
     ]
    }
   ],
   "source": [
    "print(\"Me levante a las 6 de la mañana,  y me \\\"bañe\\\" a las 7\")\n",
    "# el \\ es un salto de línea"
   ]
  },
  {
   "cell_type": "code",
   "execution_count": 25,
   "id": "9ed1fa5e",
   "metadata": {},
   "outputs": [
    {
     "name": "stdout",
     "output_type": "stream",
     "text": [
      "Fabian\tOsneyder\tTorres\tFuentes\n"
     ]
    }
   ],
   "source": [
    "print(\"Fabian\\tOsneyder\\tTorres\\tFuentes\")"
   ]
  },
  {
   "cell_type": "code",
   "execution_count": 26,
   "id": "fef425e8",
   "metadata": {},
   "outputs": [
    {
     "name": "stdout",
     "output_type": "stream",
     "text": [
      "El semestre se acaba el 6 de junio . \n",
      "Toca hacer asadito\n"
     ]
    }
   ],
   "source": [
    "print('El semestre se acaba el 6 de junio . \\nToca hacer asadito')"
   ]
  },
  {
   "cell_type": "code",
   "execution_count": 28,
   "id": "dbfb0e6a",
   "metadata": {},
   "outputs": [
    {
     "name": "stdout",
     "output_type": "stream",
     "text": [
      "un algoritmo es una secuencia de \"pasos\" lógicos que permiten solucionar un problema. \n",
      "ectiva y lógica, lograrán un resultado determinado. dan una serie de pasos para poder \tidentificarla y así \trecuperarla o \tborrarla, que \tdesarrollándose de manera \n"
     ]
    }
   ],
   "source": [
    "print(\"En términos de programación, \\run algoritmo es una secuencia de \\\"pasos\\\" lógicos que permiten solucionar un problema. \\nPor ejemplo: si perdemos el acceso a una cuenta nos dan una serie de pasos para poder \\tidentificarla y así \\trecuperarla o \\tborrarla, que \\tdesarrollándose de manera \\rectiva y lógica, lograrán un resultado determinado.\")"
   ]
  },
  {
   "cell_type": "markdown",
   "id": "56616015",
   "metadata": {},
   "source": [
    "# operadores matematicos y variables enteras y flotantes\n"
   ]
  },
  {
   "cell_type": "code",
   "execution_count": null,
   "id": "d257074e",
   "metadata": {},
   "outputs": [
    {
     "name": "stdout",
     "output_type": "stream",
     "text": [
      "El resultado de la suma es: 40 y el tipo de variable es: <class 'int'>\n"
     ]
    }
   ],
   "source": [
    "um_1 =  0\n",
    "Num_2 = 34\n",
    "suma = Num_1 + Num_2\n",
    "# La función type permite conocer el tipo de variable que es una variable\n",
    "print(f\"El resultado: {suma} y el tipo de variable es: {type(suma)}\")"
   ]
  },
  {
   "cell_type": "markdown",
   "id": "9df4c975",
   "metadata": {},
   "source": []
  },
  {
   "cell_type": "code",
   "execution_count": null,
   "id": "52aabc86",
   "metadata": {},
   "outputs": [],
   "source": []
  }
 ],
 "metadata": {
  "kernelspec": {
   "display_name": ".venv",
   "language": "python",
   "name": "python3"
  },
  "language_info": {
   "codemirror_mode": {
    "name": "ipython",
    "version": 3
   },
   "file_extension": ".py",
   "mimetype": "text/x-python",
   "name": "python",
   "nbconvert_exporter": "python",
   "pygments_lexer": "ipython3",
   "version": "3.13.3"
  }
 },
 "nbformat": 4,
 "nbformat_minor": 5
}
