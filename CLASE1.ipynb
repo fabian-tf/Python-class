{
 "cells": [
  {
   "cell_type": "markdown",
   "id": "ae6a5d3e",
   "metadata": {},
   "source": []
  },
  {
   "cell_type": "code",
   "execution_count": 30,
   "id": "9d7b4fa0",
   "metadata": {},
   "outputs": [
    {
     "name": "stdout",
     "output_type": "stream",
     "text": [
      "4\n"
     ]
    },
    {
     "data": {
      "text/plain": [
       "int"
      ]
     },
     "execution_count": 30,
     "metadata": {},
     "output_type": "execute_result"
    }
   ],
   "source": [
    "#4 = \"cuatro\" #No se guardar texto en numeros ni se pueden usar variables como if, double, int, etc\n",
    "B = 2,4,7 # inmutable (NO CAMBIA)\n",
    "D = [\"Juan\", \"Carlos\"] # Es modificable\n",
    "#fabian = (SP:7)\n",
    "print(4)\n",
    "type(4)"
   ]
  },
  {
   "cell_type": "code",
   "execution_count": 29,
   "id": "a7d8d1f7",
   "metadata": {},
   "outputs": [
    {
     "name": "stdout",
     "output_type": "stream",
     "text": [
      "la variable: <class 'int'>\n",
      "la variable: <class 'float'>\n",
      "la variable: <class 'str'>\n",
      "la variable: <class 'bool'>\n"
     ]
    }
   ],
   "source": [
    "print (\"la variable:\", type(543))\n",
    "print (\"la variable:\", type(16.84))\n",
    "print (\"la variable:\", type(\"holaa\"))\n",
    "print (\"la variable:\", type(True))"
   ]
  },
  {
   "cell_type": "markdown",
   "id": "93050e30",
   "metadata": {},
   "source": [
    "VARIABLE QUE ALMACENAN MULTIPLES DATOS"
   ]
  },
  {
   "cell_type": "code",
   "execution_count": 32,
   "id": "8f88f61d",
   "metadata": {},
   "outputs": [
    {
     "name": "stdout",
     "output_type": "stream",
     "text": [
      "La variable es tipo:  <class 'tuple'>\n"
     ]
    }
   ],
   "source": [
    "#CREACION DE UNA TUPLA \n",
    "No_Modificable = (1,2,3,4)\n",
    "#mostrar el tipo  de la variable\n",
    "print (\"La variable es tipo: \", type(No_Modificable))"
   ]
  },
  {
   "cell_type": "code",
   "execution_count": 33,
   "id": "1e513e55",
   "metadata": {},
   "outputs": [
    {
     "name": "stdout",
     "output_type": "stream",
     "text": [
      "La variable es de tipo:  <class 'list'>\n"
     ]
    }
   ],
   "source": [
    "# CREACION DE UNA LISTA\n",
    "Compras_modficables = [\"leche\", \"huevos\", \"Pan\", \"gaseosa\"]\n",
    "#mostrar tipo de variable\n",
    "print (\"La variable es de tipo: \", type(Compras_modficables))"
   ]
  },
  {
   "cell_type": "code",
   "execution_count": null,
   "id": "0afcd384",
   "metadata": {},
   "outputs": [],
   "source": [
    "#CREACION DE UN DICCIONARIO\n",
    "diccionario"
   ]
  },
  {
   "cell_type": "markdown",
   "id": "3a0f0fb2",
   "metadata": {},
   "source": [
    "IMPORTAR LIBRERIA DE PANDAS"
   ]
  },
  {
   "cell_type": "code",
   "execution_count": 3,
   "id": "689edf51",
   "metadata": {},
   "outputs": [
    {
     "name": "stdout",
     "output_type": "stream",
     "text": [
      "La variable es de tipo:  <class 'pandas.core.frame.DataFrame'>\n",
      "  nombre  edades     Ciudad\n",
      "0   juan      20     Madrid\n",
      "1  maria      40  Barcelona\n",
      "2   luis      78   Valencia\n"
     ]
    }
   ],
   "source": [
    "import pandas as pd\n",
    "datos = {\n",
    "    \"nombre\" : ['juan', 'maria', 'luis'],\n",
    "    \"edades\" : [20, 40,78],\n",
    "    \"Ciudad\" : [\"Madrid\", \"Barcelona\", \"Valencia\"]\n",
    "}\n",
    "# CREAR UN DATA FRAME\n",
    "tabla = pd.DataFrame(datos)\n",
    "#MOSTRAR EL TIPO DE VARIABLE\n",
    "print (\"La variable es de tipo: \", type(tabla))\n",
    "#MOSTRAR TABLA\n",
    "print(tabla)"
   ]
  }
 ],
 "metadata": {
  "kernelspec": {
   "display_name": ".venv",
   "language": "python",
   "name": "python3"
  },
  "language_info": {
   "codemirror_mode": {
    "name": "ipython",
    "version": 3
   },
   "file_extension": ".py",
   "mimetype": "text/x-python",
   "name": "python",
   "nbconvert_exporter": "python",
   "pygments_lexer": "ipython3",
   "version": "3.13.3"
  }
 },
 "nbformat": 4,
 "nbformat_minor": 5
}
