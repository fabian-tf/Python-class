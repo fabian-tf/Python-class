{
 "cells": [
  {
   "cell_type": "markdown",
   "id": "3b158985",
   "metadata": {},
   "source": [
    "#  CREACION DE LISTAS ORDENADAS"
   ]
  },
  {
   "cell_type": "code",
   "execution_count": 19,
   "id": "f88fac07",
   "metadata": {},
   "outputs": [
    {
     "name": "stdout",
     "output_type": "stream",
     "text": [
      "[11, 12, 22, 26, 34, 43, 54, 65, 90]\n"
     ]
    }
   ],
   "source": [
    "# Definimos una lista inicial de números desordenados.\n",
    "# Esta es la lista que queremos ordenar.\n",
    "Unlistaa = [54, 26, 65, 34, 12, 22, 11, 90, 43]\n",
    "\n",
    "# Definimos una función llamada OrdenamientoPorInsercion que toma una lista como argumento.\n",
    "# Esta función contendrá la lógica para ordenar la lista usando el algoritmo de Ordenamiento por Inserción.\n",
    "def OrdenamientoPorInsercion(Unalista):\n",
    "    # Iniciamos un bucle que recorrerá la lista desde el segundo elemento (índice 1) hasta el final.\n",
    "    # El primer elemento (índice 0) se considera inicialmente como una lista \"ordenada\" de un solo elemento.\n",
    "    for indice in range(1, len(Unalista)):\n",
    "\n",
    "        # Guardamos el valor del elemento actual que estamos considerando en esta iteración.\n",
    "        # Este es el valor que intentaremos \"insertar\" en la porción ya ordenada de la lista.\n",
    "        ValorActual = Unalista[indice]\n",
    "\n",
    "        # Guardamos la posición actual de este elemento.\n",
    "        # Esta posición puede cambiar si necesitamos mover elementos para hacer espacio para ValorActual.\n",
    "        Posicion = indice\n",
    "\n",
    "        # Iniciamos un bucle \"while\". Este bucle se ejecutará mientras se cumplan DOS condiciones:\n",
    "        # 1. La posición actual sea mayor que 0 (para no salirnos del inicio de la lista).\n",
    "        # 2. El elemento ANTERIOR al actual (Unalista[Posicion - 1]) sea MAYOR que ValorActual.\n",
    "        # Si el elemento anterior es mayor, significa que ValorActual aún no está en su lugar correcto en la porción ordenada.\n",
    "        while Posicion > 0 and Unalista[Posicion - 1] > ValorActual:\n",
    "            # Si la condición del while es verdadera, significa que el elemento anterior (que es mayor)\n",
    "            # debe moverse a la derecha para hacer espacio para ValorActual.\n",
    "            # Copiamos el elemento anterior a la posición actual.\n",
    "            Unalista[Posicion] = Unalista[Posicion - 1]\n",
    "\n",
    "            # Movemos nuestra \"Posicion\" un paso hacia la izquierda.\n",
    "            # Esto nos prepara para comparar ValorActual con el siguiente elemento a la izquierda en la próxima iteración del while.\n",
    "            Posicion = Posicion - 1\n",
    "\n",
    "        # Cuando el bucle \"while\" termina, significa que hemos encontrado la posición correcta\n",
    "        # donde ValorActual debe ser insertado. Esto ocurre porque o llegamos al principio de la lista (Posicion es 0)\n",
    "        # o encontramos un elemento a la izquierda que es menor o igual a ValorActual.\n",
    "        # Insertamos el ValorActual en esa Posicion encontrada.\n",
    "        Unalista[Posicion] = ValorActual\n",
    "\n",
    "# Llamamos a la función de ordenamiento, pasándole nuestra lista inicial.\n",
    "# La función modificará la lista 'Unlistaa' directamente (ordenamiento \"in-place\").\n",
    "OrdenamientoPorInsercion(Unlistaa)\n",
    "\n",
    "# Imprimimos la lista después de que la función de ordenamiento ha terminado.\n",
    "# Ahora la lista debería estar ordenada de menor a mayor.\n",
    "print(Unalista)"
   ]
  },
  {
   "cell_type": "code",
   "execution_count": null,
   "id": "a3a2e456",
   "metadata": {},
   "outputs": [],
   "source": [
    "Unalista2 = [54, 26, 65, 34, 12, 22, 11, 90, 43]\n",
    "\n"
   ]
  }
 ],
 "metadata": {
  "kernelspec": {
   "display_name": ".venv",
   "language": "python",
   "name": "python3"
  },
  "language_info": {
   "codemirror_mode": {
    "name": "ipython",
    "version": 3
   },
   "file_extension": ".py",
   "mimetype": "text/x-python",
   "name": "python",
   "nbconvert_exporter": "python",
   "pygments_lexer": "ipython3",
   "version": "3.13.3"
  }
 },
 "nbformat": 4,
 "nbformat_minor": 5
}
