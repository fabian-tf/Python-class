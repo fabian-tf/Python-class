{
 "cells": [
  {
   "cell_type": "markdown",
   "id": "3b158985",
   "metadata": {},
   "source": [
    "#  CREACION DE LISTAS ORDENADAS"
   ]
  },
  {
   "cell_type": "code",
   "execution_count": 19,
   "id": "f88fac07",
   "metadata": {},
   "outputs": [
    {
     "name": "stdout",
     "output_type": "stream",
     "text": [
      "[11, 12, 22, 26, 34, 43, 54, 65, 90]\n"
     ]
    }
   ],
   "source": [
    "# Definimos una lista inicial de números desordenados.\n",
    "# Esta es la lista que queremos ordenar.\n",
    "Unlistaa = [54, 26, 65, 34, 12, 22, 11, 90, 43]\n",
    "\n",
    "# Definimos una función llamada OrdenamientoPorInsercion que toma una lista como argumento.\n",
    "# Esta función contendrá la lógica para ordenar la lista usando el algoritmo de Ordenamiento por Inserción.\n",
    "def OrdenamientoPorInsercion(Unalista):\n",
    "    # Iniciamos un bucle que recorrerá la lista desde el segundo elemento (índice 1) hasta el final.\n",
    "    # El primer elemento (índice 0) se considera inicialmente como una lista \"ordenada\" de un solo elemento.\n",
    "    for indice in range(1, len(Unalista)):\n",
    "\n",
    "        # Guardamos el valor del elemento actual que estamos considerando en esta iteración.\n",
    "        # Este es el valor que intentaremos \"insertar\" en la porción ya ordenada de la lista.\n",
    "        ValorActual = Unalista[indice]\n",
    "\n",
    "        # Guardamos la posición actual de este elemento.\n",
    "        # Esta posición puede cambiar si necesitamos mover elementos para hacer espacio para ValorActual.\n",
    "        Posicion = indice\n",
    "\n",
    "        # Iniciamos un bucle \"while\". Este bucle se ejecutará mientras se cumplan DOS condiciones:\n",
    "        # 1. La posición actual sea mayor que 0 (para no salirnos del inicio de la lista).\n",
    "        # 2. El elemento ANTERIOR al actual (Unalista[Posicion - 1]) sea MAYOR que ValorActual.\n",
    "        # Si el elemento anterior es mayor, significa que ValorActual aún no está en su lugar correcto en la porción ordenada.\n",
    "        while Posicion > 0 and Unalista[Posicion - 1] > ValorActual:\n",
    "            # Si la condición del while es verdadera, significa que el elemento anterior (que es mayor)\n",
    "            # debe moverse a la derecha para hacer espacio para ValorActual.\n",
    "            # Copiamos el elemento anterior a la posición actual.\n",
    "            Unalista[Posicion] = Unalista[Posicion - 1]\n",
    "\n",
    "            # Movemos nuestra \"Posicion\" un paso hacia la izquierda.\n",
    "            # Esto nos prepara para comparar ValorActual con el siguiente elemento a la izquierda en la próxima iteración del while.\n",
    "            Posicion = Posicion - 1\n",
    "\n",
    "        # Cuando el bucle \"while\" termina, significa que hemos encontrado la posición correcta\n",
    "        # donde ValorActual debe ser insertado. Esto ocurre porque o llegamos al principio de la lista (Posicion es 0)\n",
    "        # o encontramos un elemento a la izquierda que es menor o igual a ValorActual.\n",
    "        # Insertamos el ValorActual en esa Posicion encontrada.\n",
    "        Unalista[Posicion] = ValorActual\n",
    "\n",
    "# Llamamos a la función de ordenamiento, pasándole nuestra lista inicial.\n",
    "# La función modificará la lista 'Unlistaa' directamente (ordenamiento \"in-place\").\n",
    "OrdenamientoPorInsercion(Unlistaa)\n",
    "\n",
    "# Imprimimos la lista después de que la función de ordenamiento ha terminado.\n",
    "# Ahora la lista debería estar ordenada de menor a mayor.\n",
    "print(Unalista)"
   ]
  },
  {
   "cell_type": "markdown",
   "id": "e5178698",
   "metadata": {},
   "source": [
    "# OPERADORES MATEMATICOS Y VARIABLES ENTERAS"
   ]
  },
  {
   "cell_type": "code",
   "execution_count": 1,
   "id": "a3a2e456",
   "metadata": {},
   "outputs": [
    {
     "name": "stdout",
     "output_type": "stream",
     "text": [
      "el resultado de la suma es: 60.8 y el tipo de dato es: <class 'float'>\n",
      "\n"
     ]
    }
   ],
   "source": [
    "Num1= 10.8\n",
    "Num2= 50\n",
    "Suma= Num1 + Num2\n",
    "Resta= Num1 - Num2\n",
    "print (f\"el resultado de la suma es: {Suma} y el tipo de dato es: {type(Suma)}\")\n",
    "print ()"
   ]
  },
  {
   "cell_type": "code",
   "execution_count": 4,
   "id": "7df1b6a5",
   "metadata": {},
   "outputs": [
    {
     "name": "stdout",
     "output_type": "stream",
     "text": [
      "Primera division 7.142857142857143\n",
      "Segunda division 7\n"
     ]
    }
   ],
   "source": [
    "\n",
    "div1= 50\n",
    "div2= 7\n",
    "print(\"Primera division\", div1/div2) # division normal\n",
    "print(\"Segunda division\", div1//div2) # division entera"
   ]
  },
  {
   "cell_type": "code",
   "execution_count": 5,
   "id": "e135193d",
   "metadata": {},
   "outputs": [
    {
     "name": "stdout",
     "output_type": "stream",
     "text": [
      "Multiplicacion 50\n",
      "Multiplicacion 100000\n"
     ]
    }
   ],
   "source": [
    "multi1= 10\n",
    "multi2= 5\n",
    "print(\"Multiplicacion\", multi1*multi2) # multiplicacion\n",
    "print(\"Multiplicacion\", multi1**multi2) # potencia\n"
   ]
  },
  {
   "cell_type": "code",
   "execution_count": null,
   "id": "f38cf719",
   "metadata": {},
   "outputs": [],
   "source": [
    "mod1= 10\n",
    "mod2= 9\n",
    "res = mod1%mod2 # modulo\n",
    "print(\"El resultado del modulo es\", res) # que da el residuo de la division"
   ]
  },
  {
   "cell_type": "code",
   "execution_count": 8,
   "id": "170245a0",
   "metadata": {},
   "outputs": [
    {
     "name": "stdout",
     "output_type": "stream",
     "text": [
      "El numero es par\n"
     ]
    }
   ],
   "source": [
    "Num1= 10\n",
    "res= Num1%2 \n",
    "if res==0:\n",
    "    print(\"El numero es par\")\n",
    "else:\n",
    "    print(\"El numero es impar\")"
   ]
  },
  {
   "cell_type": "code",
   "execution_count": 69,
   "id": "2deadf68",
   "metadata": {},
   "outputs": [
    {
     "name": "stdout",
     "output_type": "stream",
     "text": [
      "El sueldo es mayor a 2300000 y se le aplica desduento del 15% :  4250000.0\n"
     ]
    }
   ],
   "source": [
    "sueldo= int(input(\"Ingrese el sueldo: \"))\n",
    "if sueldo< 2300000 and sueldo> 1200000:\n",
    "    print(sueldo)\n",
    "    \n",
    "if sueldo> 2300000:\n",
    "    Desde= sueldo*0.15\n",
    "    descuento= sueldo-Desde\n",
    "    print(\"El sueldo es mayor a 2300000 y se le aplica desduento del 15% : \", descuento)\n",
    "\n",
    "if sueldo<1200000:\n",
    "    desd = sueldo*0.05\n",
    "    aumento= sueldo+desd\n",
    "    print(\"El sueldo es menor a 1200000 y el aumento es del 5%: \", aumento)\n",
    "\n"
   ]
  },
  {
   "cell_type": "markdown",
   "id": "d1e41caf",
   "metadata": {},
   "source": [
    "# PROPIEDADES DE LA CADENA DE TEXTO"
   ]
  },
  {
   "cell_type": "code",
   "execution_count": 40,
   "id": "13c1da66",
   "metadata": {},
   "outputs": [
    {
     "name": "stdout",
     "output_type": "stream",
     "text": [
      "A A A A\n"
     ]
    }
   ],
   "source": [
    "Nombre = \"JONATHAN SOSSA BUITRAGO\"\n",
    "print(Nombre[3], Nombre[6], Nombre [13], Nombre [20]) "
   ]
  },
  {
   "cell_type": "code",
   "execution_count": 49,
   "id": "fad2d5de",
   "metadata": {},
   "outputs": [
    {
     "name": "stdout",
     "output_type": "stream",
     "text": [
      "S O S S A\n"
     ]
    }
   ],
   "source": [
    "Nombre = \"JONATHAN SOSSA BUITRAGO\"\n",
    "print(Nombre [-14], Nombre [-13], Nombre [-12], Nombre [-11], Nombre [-10])"
   ]
  },
  {
   "cell_type": "code",
   "execution_count": 54,
   "id": "1465b329",
   "metadata": {},
   "outputs": [
    {
     "name": "stdout",
     "output_type": "stream",
     "text": [
      "SOSSA\n"
     ]
    }
   ],
   "source": [
    "Nombre = \"JONATHAN SOSSA BUITRAGO\"\n",
    "print(Nombre [-14:14]) # se da la posicion inicial y no se da la final llamado rango "
   ]
  },
  {
   "cell_type": "code",
   "execution_count": 67,
   "id": "2e72b222",
   "metadata": {},
   "outputs": [
    {
     "name": "stdout",
     "output_type": "stream",
     "text": [
      "JONATHAN S\n",
      "OSSA B\n",
      "UITRAGO\n",
      "JONATHAN S\n",
      "OSSA B\n",
      "UITRAGO\n"
     ]
    }
   ],
   "source": [
    "Nombre = \"JONATHAN SOSSA BUITRAGO\"\n",
    "# forma positiva\n",
    "print(Nombre[:10])\n",
    "print(Nombre[10:16]) \n",
    "print(Nombre [16:])\n",
    "# forma negativa\n",
    "print(Nombre[-23: -13]) \n",
    "print(Nombre[-13:-7]) \n",
    "print(Nombre[-7:])\n"
   ]
  },
  {
   "cell_type": "code",
   "execution_count": null,
   "id": "4970090d",
   "metadata": {},
   "outputs": [],
   "source": [
    "Nombre= input(\"Ingrese su nombre: \")\n",
    "print(f\"las 3 primeras 3 letras de {Nombre} son:\", Nombre[:4])\n"
   ]
  }
 ],
 "metadata": {
  "kernelspec": {
   "display_name": ".venv",
   "language": "python",
   "name": "python3"
  },
  "language_info": {
   "codemirror_mode": {
    "name": "ipython",
    "version": 3
   },
   "file_extension": ".py",
   "mimetype": "text/x-python",
   "name": "python",
   "nbconvert_exporter": "python",
   "pygments_lexer": "ipython3",
   "version": "3.13.3"
  }
 },
 "nbformat": 4,
 "nbformat_minor": 5
}
