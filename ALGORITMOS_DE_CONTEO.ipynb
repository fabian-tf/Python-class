{
 "cells": [
  {
   "cell_type": "markdown",
   "id": "56c0b817",
   "metadata": {},
   "source": [
    "# ALGORITMOS DE CONTEO"
   ]
  },
  {
   "cell_type": "code",
   "execution_count": 3,
   "id": "9b16def0",
   "metadata": {},
   "outputs": [
    {
     "name": "stdout",
     "output_type": "stream",
     "text": [
      "Frecuencia de palabras: Counter({'perro': 2, 'y': 2, 'el': 2, 'El': 1, 'corre': 1, 'gato': 1, 'duerme': 1, 'ladra': 1})\n",
      "El: 1\n",
      "ordenamiento: 3\n",
      "por: 2\n",
      "conteo: 2\n",
      "es: 3\n",
      "un: 1\n",
      "algoritmo: 1\n",
      "de: 6\n",
      "no: 1\n",
      "basado: 1\n",
      "en: 4\n",
      "comparaciones: 1\n",
      ".: 1\n",
      "Es: 1\n",
      "especialmente: 1\n",
      "eficiente: 1\n",
      "cuando: 1\n",
      "el: 2\n",
      "rango: 1\n",
      "valores: 1\n",
      "entrada: 2\n",
      "pequeño: 1\n",
      "comparación: 1\n",
      "con: 1\n",
      "número: 1\n",
      "elementos: 2\n",
      "a: 1\n",
      "ordenar.: 1\n",
      "La: 1\n",
      "idea: 1\n",
      "básica: 1\n",
      "del: 1\n",
      "contar: 1\n",
      "la: 2\n",
      "frecuencia: 1\n",
      "cada: 1\n",
      "elemento: 1\n",
      "matriz: 1\n",
      "y: 1\n",
      "usar: 1\n",
      "esa: 1\n",
      "información: 1\n",
      "para: 1\n",
      "colocar: 1\n",
      "los: 1\n",
      "sus: 1\n",
      "posiciones: 1\n",
      "correctas.: 1\n"
     ]
    }
   ],
   "source": [
    "# Se importa la librería Counter de collections\n",
    "from collections import Counter\n",
    "\n",
    "# Se declara la variable texto que puede ser un string o una lista\n",
    "texto = \"El ordenamiento por conteo es un algoritmo de ordenamiento no basado en comparaciones . Es especialmente eficiente cuando el rango de valores de entrada es pequeño en comparación con el número de elementos a ordenar. La idea básica del ordenamiento por conteo es contar la frecuencia de cada elemento en la matriz de entrada y usar esa información para colocar los elementos en sus posiciones correctas.\"\n",
    "\n",
    "# se divide el texto en palabras\n",
    "# Se utiliza el método split() para separar el texto en palabras\n",
    "palabras = texto.split()  # Se separa el texto en palabras\n",
    "\n",
    "# Se utiliza Counter para contar la frecuencia de cada palabra o las veces que aparece\n",
    "frecuencia = Counter(palabras)  # Se cuenta la frecuencia de cada palabra\n",
    "\n",
    "#se imprime el resultado\n",
    "print(\"Frecuencia de palabras:\", contador)  # Se imprime el resultado\n",
    "for palabra, conteo in frecuencia.items():\n",
    "    print(f\"{palabra}: {conteo}\") # Se imprime cada palabra y su conteo\n"
   ]
  },
  {
   "cell_type": "code",
   "execution_count": 34,
   "id": "42c61d25",
   "metadata": {},
   "outputs": [
    {
     "name": "stdout",
     "output_type": "stream",
     "text": [
      "{'Manzana': 1, 'Pera': 1, 'uva': 1}\n"
     ]
    }
   ],
   "source": [
    "palabras = [ \"Manzana\", \"Pera\", \"uva\"]\n",
    "contador = {}\n",
    "\n",
    "for palabra in palabras:\n",
    "    if palabra in contador:\n",
    "        contador[palabra] += 1\n",
    "    else:\n",
    "        contador[palabra] = 1\n",
    "print(contador)"
   ]
  },
  {
   "cell_type": "code",
   "execution_count": 32,
   "id": "a38cb412",
   "metadata": {},
   "outputs": [
    {
     "name": "stdout",
     "output_type": "stream",
     "text": [
      "{'To': 1, 'begin': 2, 'to': 4, 'toboggan': 3, 'first': 1, 'buy': 3, 'a': 4, 'toboggan,': 1, 'but': 1, \"don't\": 1, 'too': 2, 'big': 3, 'toboggan.': 2, 'Too': 1, 'is': 1}\n",
      "la palabra \"to\" aparece: 4 veces\n"
     ]
    }
   ],
   "source": [
    "palabras = [ \"To\", \"begin\", \"to\", \"toboggan\", \"first\", \"buy\", \"a\", \"toboggan,\", \"but\", \"don't\", \"buy\", \"too\", \"big\", \"a\", \"toboggan.\", \"Too\", \"big\", \"a\", \"toboggan\", \"is\", \"too\", \"big\", \"a\", \"toboggan\", \"to\", \"buy\", \"to\", \"begin\", \"to\", \"toboggan.\"]\n",
    "contador = {}\n",
    "\n",
    "for palabra in palabras:\n",
    "\n",
    "    if palabra in contador:\n",
    "        contador[palabra] += 1\n",
    "    else:\n",
    "        contador[palabra] = 1\n",
    "print(contador)\n",
    "\n",
    "print(f'la palabra \"to\" aparece: {palabras.count(\"to\")} veces')"
   ]
  },
  {
   "cell_type": "code",
   "execution_count": 39,
   "id": "5329c394",
   "metadata": {},
   "outputs": [
    {
     "name": "stdout",
     "output_type": "stream",
     "text": [
      "El total de palabras es: 62\n",
      "Palabras que se repiten:\n",
      "La: 1\n",
      "búsqueda: 1\n",
      "lineal: 1\n",
      "no: 3\n",
      "necesita: 1\n",
      "que: 4\n",
      "los: 1\n",
      "datos: 4\n",
      "estén: 1\n",
      "ordenados: 1\n",
      "para: 1\n",
      "funcionar,: 1\n",
      "por: 1\n",
      "lo: 2\n",
      "se: 1\n",
      "utiliza: 1\n",
      "principalmente: 1\n",
      "en: 4\n",
      "conjuntos: 1\n",
      "de: 1\n",
      "sin: 1\n",
      "ordenar.: 1\n",
      "Esto: 1\n",
      "hace: 1\n",
      "útil: 1\n",
      "situaciones: 1\n",
      "las: 1\n",
      "es: 2\n",
      "práctico: 1\n",
      "ordenar,: 1\n",
      "o: 1\n",
      "cuando: 1\n",
      "trabajas: 1\n",
      "con: 1\n",
      "bruto.: 1\n",
      "Sin: 1\n",
      "embargo,: 1\n",
      "esta: 1\n",
      "ventaja: 1\n",
      "tiene: 1\n",
      "un: 1\n",
      "coste:: 1\n",
      "tan: 1\n",
      "eficaz: 1\n",
      "como: 1\n",
      "otros: 1\n",
      "algoritmos: 1\n",
      "requieren: 1\n",
      "preclasificados.: 1\n"
     ]
    }
   ],
   "source": [
    "from collections import Counter\n",
    "texto = input(\"ingrese un texto: \")\n",
    "\n",
    "palabras = texto.split()\n",
    "\n",
    "total_palabras = len(palabras)\n",
    "print(f\"El total de palabras es: {total_palabras}\")\n",
    "\n",
    "frecuencia = Counter(palabras)\n",
    "print(f\"Palabras que se repiten:\")\n",
    "for palabra, conteo in frecuencia.items():\n",
    "    print(f\"{palabra}: {conteo}\")\n",
    "\n"
   ]
  },
  {
   "cell_type": "code",
   "execution_count": 41,
   "id": "6a09bb8d",
   "metadata": {},
   "outputs": [
    {
     "name": "stdout",
     "output_type": "stream",
     "text": [
      "El total de palabras es: 62\n",
      "Palabras que se repiten:\n",
      "la: 1\n",
      "búsqueda: 1\n",
      "lineal: 1\n",
      "no: 3\n",
      "necesita: 1\n",
      "que: 4\n",
      "los: 1\n",
      "datos: 4\n",
      "estén: 1\n",
      "ordenados: 1\n",
      "para: 1\n",
      "funcionar: 1\n",
      "por: 1\n",
      "lo: 2\n",
      "se: 1\n",
      "utiliza: 1\n",
      "principalmente: 1\n",
      "en: 4\n",
      "conjuntos: 1\n",
      "de: 1\n",
      "sin: 2\n",
      "ordenar: 2\n",
      "esto: 1\n",
      "hace: 1\n",
      "útil: 1\n",
      "situaciones: 1\n",
      "las: 1\n",
      "es: 2\n",
      "práctico: 1\n",
      "o: 1\n",
      "cuando: 1\n",
      "trabajas: 1\n",
      "con: 1\n",
      "bruto: 1\n",
      "embargo: 1\n",
      "esta: 1\n",
      "ventaja: 1\n",
      "tiene: 1\n",
      "un: 1\n",
      "coste:: 1\n",
      "tan: 1\n",
      "eficaz: 1\n",
      "como: 1\n",
      "otros: 1\n",
      "algoritmos: 1\n",
      "requieren: 1\n",
      "preclasificados: 1\n"
     ]
    }
   ],
   "source": [
    "# 1.Se importa la librería Counter de collections\n",
    "# Counter es una subclase de diccionario que facilita el conteo de elementos en una secuencia.\n",
    "from collections import Counter\n",
    "\n",
    "# 2. Pide al usuario que escriba un texto y lo guarda.\n",
    "texto = input(\"ingrese un texto: \")\n",
    "\n",
    "# 3.Divide la cadena de texto en una lista de palabras.\n",
    "# El método .split() divide la cadena por espacios en blanco por defecto \n",
    "# y devuelve una lista de subcadenas (palabras).\n",
    "palabras = [palabra.strip('.,!?\"\\'').lower() for palabra in texto.split()]\n",
    "\n",
    "# 4.Calcula el número total de palabras en la lista.\n",
    "# La función len() devuelve la cantidad de elementos en una lista (o cualquier secuencia).\n",
    "total_palabras = len(palabras)\n",
    "# Muestra el número total de palabras.\n",
    "print(f\"El total de palabras es: {total_palabras}\")\n",
    "\n",
    "# Usa la herramienta \"Counter\" para contar cuántas veces aparece cada palabra.\n",
    "frecuencia = Counter(palabras)\n",
    "# Muestra un título para las palabras que se repiten.\n",
    "print(f\"Palabras que se repiten:\")\n",
    "\n",
    "# Para cada palabra y su cuenta en el resultado:\n",
    "for palabra, conteo in frecuencia.items():\n",
    "    # Muestra la palabra y cuántas veces se repite.\n",
    "    print(f\"{palabra}: {conteo}\")"
   ]
  },
  {
   "cell_type": "code",
   "execution_count": null,
   "id": "688fa36b",
   "metadata": {},
   "outputs": [],
   "source": [
    "var() #es una tupla que contiene una variable y su valor\n",
    "var[] #es una lista que contiene variables y sus valores\n",
    "var {} #es un diccionario que contiene variables y sus valores\n",
    "var {\"A\": {1,2,3,4\n",
    "           \"AA\": [\"A\", \"B\", \"C\"],}} \n",
    "#es un diccionario que contiene variables y sus valores, donde \"A\" es una clave y {1,2,3,4} es su valor"
   ]
  },
  {
   "cell_type": "code",
   "execution_count": 3,
   "id": "7b564c94",
   "metadata": {},
   "outputs": [
    {
     "name": "stdout",
     "output_type": "stream",
     "text": [
      "tupla_desordenada : (3, 1, 4, 2, 5, 54, 56, 71, 99, 51, 23, 45, 67, 89, 12, 34, 56, 78, 90, 98, 11)\n",
      "tupla ordenada: [1, 2, 3, 4, 5, 11, 12, 23, 34, 45, 51, 54, 56, 56, 67, 71, 78, 89, 90, 98, 99]\n",
      "El tamaño de la nueva lista es:  21\n"
     ]
    }
   ],
   "source": [
    "tupla_desordenada = (3, 1, 4, 2, 5, 54, 56, 71, 99, 51, 23, 45, 67, 89, 12, 34, 56, 78, 90, 98, 11)\n",
    "ordenado = sorted(tupla_desordenada)\n",
    "print (\"tupla_desordenada :\", tupla_desordenada)\n",
    "print(\"tupla ordenada:\", ordenado)\n",
    "print(\"El tamaño de la nueva lista es: \", len(ordenado))"
   ]
  }
 ],
 "metadata": {
  "kernelspec": {
   "display_name": ".venv",
   "language": "python",
   "name": "python3"
  },
  "language_info": {
   "codemirror_mode": {
    "name": "ipython",
    "version": 3
   },
   "file_extension": ".py",
   "mimetype": "text/x-python",
   "name": "python",
   "nbconvert_exporter": "python",
   "pygments_lexer": "ipython3",
   "version": "3.13.3"
  }
 },
 "nbformat": 4,
 "nbformat_minor": 5
}
