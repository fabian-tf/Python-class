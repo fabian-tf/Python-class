{
 "cells": [
  {
   "cell_type": "markdown",
   "id": "fe6fce65",
   "metadata": {},
   "source": [
    "# CREAR FUNCIONES PARA EDICION DE LISTAS"
   ]
  },
  {
   "cell_type": "code",
   "execution_count": null,
   "id": "0c490e70",
   "metadata": {},
   "outputs": [
    {
     "name": "stdout",
     "output_type": "stream",
     "text": [
      "lista actual: ['uno', 'dos', 'tres', 'cuatro', 'cinco']\n",
      "lista modificada: ['uno', 'dos', 'tres', 'cuatro', 'cinco', 'ocho']\n",
      "--------------------------------------------------------------------------------\n"
     ]
    }
   ],
   "source": [
    "#CREACION DE UNA LISTA \n",
    "mi_lista = [ \"uno\", \"dos\", \"tres\", \"cuatro\", \"cinco\" ]\n",
    "def agregar_elemento():\n",
    "    print (\"Funcion para agregar un elemento \")\n",
    "    print(\"lista actual:\", mi_lista) # mostrar la lista actual\n",
    "    valor_nuevo = input(\"Ingrese un nuevo elemento para agregar a la lista: \")\n",
    "    mi_lista.append(valor_nuevo)  # agregar el nuevo elemento a la lista\n",
    "    print(\"lista modificada:\", mi_lista)  # mostrar la lista modificada\n",
    "    print(\"-\" * 80)\n",
    "\n",
    "def modificar_elemento():\n",
    "    print (\"Funcion para modificar un elemento \")\n",
    "    print(\"lista actual:\", mi_lista) # mostrar la lista actual\n",
    "    valor_actual = input(\"Ingrese el elemento que desea modificar:\")\n",
    "    # verificar si el elemento existe en la lista\n",
    "    if (valor_actual in mi_lista):\n",
    "        nuevo_val = input(\"Ingrese el nuevo valor:\")\n",
    "        #modifica la lista buscando el indice donde se encuentra el elemento\n",
    "        mi_lista[mi_lista.index(valor_actual)] = nuevo_val #modifica el elemento en la lista\n",
    "        print(\"lista modificada:\", mi_lista)\n",
    "else:\n",
    "        print(\"El elemento no se encuentra en la lista\")\n",
    "    print(\"-\" * 80)\n",
    "def eliminar_elemento():\n",
    "    print (\"Funcion para eliminar un elemento \")\n",
    "    print(\"lista actual:\", mi_lista) # mostrar la lista actual\n",
    "    valor_eliminar = input(\"Ingrese el elemento que desea eliminar:\")\n",
    "    if (valor_eliminar in mi_lista):\n",
    "        mi_lista.remove(valor_eliminar) # eliminar el elemento de la lista\n",
    "        print(\"lista modificada:\", mi_lista)\n",
    "    else: \n",
    "        print(\"El elemento no se encuentra en la lista\")\n",
    "    print(\"-\" * 80)\n",
    "\n",
    "agregar_elemento()  # llamar a la funcion para agregar un elemento\n",
    "modificar_elemento()  # llamar a la funcion para modificar un elemento\n",
    "eliminar_elemento()  # llamar a la funcion para eliminar un elemento\n"
   ]
  }
 ],
 "metadata": {
  "kernelspec": {
   "display_name": ".venv",
   "language": "python",
   "name": "python3"
  },
  "language_info": {
   "codemirror_mode": {
    "name": "ipython",
    "version": 3
   },
   "file_extension": ".py",
   "mimetype": "text/x-python",
   "name": "python",
   "nbconvert_exporter": "python",
   "pygments_lexer": "ipython3",
   "version": "3.13.3"
  }
 },
 "nbformat": 4,
 "nbformat_minor": 5
}
