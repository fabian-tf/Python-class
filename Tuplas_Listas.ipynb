{
 "cells": [
  {
   "cell_type": "markdown",
   "id": "13f98629",
   "metadata": {},
   "source": [
    "# TUPLAS"
   ]
  },
  {
   "cell_type": "markdown",
   "id": "e8e1f93f",
   "metadata": {},
   "source": [
    "# SORTED() = ORDENAR VARIABLES\n",
    "# FIND () = BUSCAR LETRA O PALABRA\n",
    "# APPEND () = AGREGAR\n",
    "# TYPE () = TIPEAR\n",
    "# REMOVE() = ELIMINAR\n",
    "# INDEX () = MAPEO INDICE"
   ]
  },
  {
   "cell_type": "code",
   "execution_count": null,
   "id": "6b8be27b",
   "metadata": {},
   "outputs": [],
   "source": [
    "var() #es una tupla que contiene una variable y su valor\n",
    "var[] #es una lista que contiene variables y sus valores\n",
    "var {} #es un diccionario que contiene variables y sus valores\n",
    "var {\"A\": {1,2,3,4\n",
    "           \"AA\": [\"A\", \"B\", \"C\"],}} \n",
    "#es un diccionario que contiene variables y sus valores, donde \"A\" es una clave y {1,2,3,4} es su valor"
   ]
  },
  {
   "cell_type": "code",
   "execution_count": null,
   "id": "fbf3e7e8",
   "metadata": {},
   "outputs": [],
   "source": [
    "tupla_desordenada = (3, 1, 4, 2, 5, 54, 56, 71, 99, 51, 23, 45, 67, 89, 12, 34, 56, 78, 90, 98, 11)\n",
    "ordenado = sorted(tupla_desordenada)\n",
    "print (\"tupla_desordenada :\", tupla_desordenada)\n",
    "print(\"tupla ordenada:\", ordenado)\n",
    "print(\"El tamaño de la nueva lista es: \", len(ordenado))"
   ]
  },
  {
   "cell_type": "code",
   "execution_count": 7,
   "id": "950db47b",
   "metadata": {},
   "outputs": [
    {
     "name": "stdout",
     "output_type": "stream",
     "text": [
      "madre\n"
     ]
    }
   ],
   "source": [
    "familia = ('bisabuelo','bisabuela',('abuelo', 'abuela', ('padre', 'madre', ('hijo'))))\n",
    "print(familia [2][2][1])"
   ]
  },
  {
   "cell_type": "code",
   "execution_count": 9,
   "id": "28519cc5",
   "metadata": {},
   "outputs": [
    {
     "name": "stdout",
     "output_type": "stream",
     "text": [
      "jo\n"
     ]
    }
   ],
   "source": [
    "familia = ('bisabuelo','bisabuela',('abuelo', 'abuela', ('padre', 'madre', ('hijo'))))\n",
    "print(familia [2][2][2][2:])"
   ]
  },
  {
   "cell_type": "code",
   "execution_count": 10,
   "id": "c08ee5fc",
   "metadata": {},
   "outputs": [
    {
     "name": "stdout",
     "output_type": "stream",
     "text": [
      "jo\n"
     ]
    }
   ],
   "source": [
    "familia = ('bisabuelo','bisabuela',('abuelo', 'abuela', ('padre', 'madre', ('hijo'))))\n",
    "Hijo = familia[2][2][2]\n",
    "print(Hijo[2:])"
   ]
  },
  {
   "cell_type": "code",
   "execution_count": null,
   "id": "f6a7901c",
   "metadata": {},
   "outputs": [],
   "source": [
    "carreras = (\"Ingeniería de Sistemas\", \"Ingeniería Electrónica\", \"Ingeniería Civil\", \"Ingeniería Industrial\")\n",
    "print(type(carreras))"
   ]
  },
  {
   "cell_type": "code",
   "execution_count": 11,
   "id": "228dbb51",
   "metadata": {},
   "outputs": [
    {
     "data": {
      "text/plain": [
       "1"
      ]
     },
     "execution_count": 11,
     "metadata": {},
     "output_type": "execute_result"
    }
   ],
   "source": [
    "# funcion find\n",
    "\"Fabian Osneyder Torres Fuentes\".find(\"a\")"
   ]
  },
  {
   "cell_type": "code",
   "execution_count": null,
   "id": "ed0a6e4e",
   "metadata": {},
   "outputs": [],
   "source": [
    "# creando  una lista \n",
    "Mercado = [\"Carne\", \"Huevo\", \"Leche\", \"Pan\", \"Queso\"]\n",
    "print(\"sin usar append ()\", Mercado)\n",
    "Mercado.append(input('Arroz'))\n",
    "print('depues de usar append ()', Mercado)"
   ]
  },
  {
   "cell_type": "code",
   "execution_count": 16,
   "id": "41d830a9",
   "metadata": {},
   "outputs": [
    {
     "name": "stdout",
     "output_type": "stream",
     "text": [
      "sin usar append () ['Carne', 'Huevo', 'Leche', 'Pan', 'Queso']\n",
      "depues de usar append () ['Carne', 'Huevo', 'Leche', 'Pan', 'Queso', 'compota']\n"
     ]
    }
   ],
   "source": [
    "# creando  una lista \n",
    "Mercado = [\"Carne\", \"Huevo\", \"Leche\", \"Pan\", \"Queso\"]\n",
    "print(\"sin usar append ()\", Mercado)\n",
    "Mercado.append(input(\"Ingrese un producto: \"))\n",
    "print('depues de usar append ()', Mercado)"
   ]
  },
  {
   "cell_type": "markdown",
   "id": "6cd80be1",
   "metadata": {},
   "source": [
    "CREAR UNA LISTA DE NUMEROS \n",
    "PREGUNTAR POR TECLADO LA POSICION DE  UNO  DE ELLOS Y MODIFICAR EL VALOR EN ESA POSICION, MOSTRAR EL VALOR VIEJO  Y EL VALOR NUEVO CON LONGITUD DE LA LISTA "
   ]
  },
  {
   "cell_type": "code",
   "execution_count": null,
   "id": "c6f8ad2d",
   "metadata": {},
   "outputs": [],
   "source": []
  },
  {
   "cell_type": "code",
   "execution_count": null,
   "id": "045dd87f",
   "metadata": {},
   "outputs": [],
   "source": []
  }
 ],
 "metadata": {
  "kernelspec": {
   "display_name": ".venv",
   "language": "python",
   "name": "python3"
  },
  "language_info": {
   "codemirror_mode": {
    "name": "ipython",
    "version": 3
   },
   "file_extension": ".py",
   "mimetype": "text/x-python",
   "name": "python",
   "nbconvert_exporter": "python",
   "pygments_lexer": "ipython3",
   "version": "3.13.3"
  }
 },
 "nbformat": 4,
 "nbformat_minor": 5
}
